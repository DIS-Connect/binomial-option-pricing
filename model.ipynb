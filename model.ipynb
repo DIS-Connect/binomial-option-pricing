{
 "cells": [
  {
   "cell_type": "markdown",
   "metadata": {},
   "source": [
    "Problem: Someone wants to buy a [call/put] Option at strike price x.\n",
    "How much should we charge for this option?"
   ]
  },
  {
   "cell_type": "markdown",
   "metadata": {},
   "source": [
    "#### One step Binomial Model\n",
    "\n"
   ]
  },
  {
   "cell_type": "markdown",
   "metadata": {},
   "source": [
    "#### Introduction\n",
    "\n",
    "\n",
    "\n",
    "At each step the price is expected to move up or down by a specific factor ($u$ or $d$) so that\n",
    "\n",
    "$S_{up}= S \\cdot u$ and $S_{down}= S \\cdot d$\n",
    "\n",
    "\n",
    "##### Payout:\n",
    "\n",
    "Call Option payout:\n",
    "$max\\{0, S - P_x\\}$\n",
    "\n",
    "Put Option payout:\n",
    "$max\\{0, P_x - S\\}$\n",
    "\n",
    "##### Variables:\n",
    "\n",
    "$\\pi$ : Probablity that the price of the underliying asset goes up\n",
    "\n",
    "$1 - \\pi$ : Probablity that the price of the underliying asset goes up\n",
    "\n",
    "$r$ : discount rate\n",
    "\n",
    "present Values of the option:\n",
    "\n",
    "\n",
    "$\n",
    "\\frac{\\pi C^{+} + (1-\\pi)C^{-} }{1 + r}\n",
    "$"
   ]
  },
  {
   "cell_type": "code",
   "execution_count": 2,
   "metadata": {},
   "outputs": [
    {
     "ename": "NameError",
     "evalue": "name 'image' is not defined",
     "output_type": "error",
     "traceback": [
      "\u001b[0;31m---------------------------------------------------------------------------\u001b[0m",
      "\u001b[0;31mNameError\u001b[0m                                 Traceback (most recent call last)",
      "Cell \u001b[0;32mIn[2], line 1\u001b[0m\n\u001b[0;32m----> 1\u001b[0m \u001b[43mimage\u001b[49m\u001b[38;5;241m.\u001b[39mpng\n",
      "\u001b[0;31mNameError\u001b[0m: name 'image' is not defined"
     ]
    }
   ],
   "source": [
    "One period binomial model\n",
    "\n",
    "\n",
    "\n"
   ]
  },
  {
   "cell_type": "markdown",
   "metadata": {},
   "source": []
  },
  {
   "cell_type": "code",
   "execution_count": null,
   "metadata": {},
   "outputs": [],
   "source": []
  },
  {
   "cell_type": "code",
   "execution_count": null,
   "metadata": {},
   "outputs": [],
   "source": []
  },
  {
   "cell_type": "markdown",
   "metadata": {},
   "source": []
  }
 ],
 "metadata": {
  "kernelspec": {
   "display_name": "Python 3.10.9 64-bit",
   "language": "python",
   "name": "python3"
  },
  "language_info": {
   "codemirror_mode": {
    "name": "ipython",
    "version": 3
   },
   "file_extension": ".py",
   "mimetype": "text/x-python",
   "name": "python",
   "nbconvert_exporter": "python",
   "pygments_lexer": "ipython3",
   "version": "3.11.3"
  },
  "orig_nbformat": 4,
  "vscode": {
   "interpreter": {
    "hash": "b0fa6594d8f4cbf19f97940f81e996739fb7646882a419484c72d19e05852a7e"
   }
  }
 },
 "nbformat": 4,
 "nbformat_minor": 2
}
